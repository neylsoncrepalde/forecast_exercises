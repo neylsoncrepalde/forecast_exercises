{
 "cells": [
  {
   "cell_type": "markdown",
   "metadata": {},
   "source": [
    "## Apple Stock prices"
   ]
  },
  {
   "cell_type": "code",
   "execution_count": 7,
   "metadata": {},
   "outputs": [
    {
     "name": "stdout",
     "output_type": "stream",
     "text": [
      "[*********************100%***********************]  1 of 1 downloaded\n"
     ]
    }
   ],
   "source": [
    "# Install yfinance package.\n",
    "#!pip install yfinance\n",
    " \n",
    "# Import yfinance\n",
    "import yfinance as yf\n",
    "import matplotlib.pyplot as plt\n",
    " \n",
    "# Get the data for the stock Apple by specifying the stock ticker, start date, and end date\n",
    "data = yf.download('AAPL','2015-01-01','2019-01-01')"
   ]
  },
  {
   "cell_type": "code",
   "execution_count": 8,
   "metadata": {},
   "outputs": [
    {
     "data": {
      "text/html": [
       "<div>\n",
       "<style scoped>\n",
       "    .dataframe tbody tr th:only-of-type {\n",
       "        vertical-align: middle;\n",
       "    }\n",
       "\n",
       "    .dataframe tbody tr th {\n",
       "        vertical-align: top;\n",
       "    }\n",
       "\n",
       "    .dataframe thead th {\n",
       "        text-align: right;\n",
       "    }\n",
       "</style>\n",
       "<table border=\"1\" class=\"dataframe\">\n",
       "  <thead>\n",
       "    <tr style=\"text-align: right;\">\n",
       "      <th></th>\n",
       "      <th>Open</th>\n",
       "      <th>High</th>\n",
       "      <th>Low</th>\n",
       "      <th>Close</th>\n",
       "      <th>Adj Close</th>\n",
       "      <th>Volume</th>\n",
       "    </tr>\n",
       "    <tr>\n",
       "      <th>Date</th>\n",
       "      <th></th>\n",
       "      <th></th>\n",
       "      <th></th>\n",
       "      <th></th>\n",
       "      <th></th>\n",
       "      <th></th>\n",
       "    </tr>\n",
       "  </thead>\n",
       "  <tbody>\n",
       "    <tr>\n",
       "      <td>2015-01-02</td>\n",
       "      <td>111.39</td>\n",
       "      <td>111.44</td>\n",
       "      <td>107.35</td>\n",
       "      <td>109.33</td>\n",
       "      <td>100.76</td>\n",
       "      <td>53204600</td>\n",
       "    </tr>\n",
       "    <tr>\n",
       "      <td>2015-01-05</td>\n",
       "      <td>108.29</td>\n",
       "      <td>108.65</td>\n",
       "      <td>105.41</td>\n",
       "      <td>106.25</td>\n",
       "      <td>97.92</td>\n",
       "      <td>64285500</td>\n",
       "    </tr>\n",
       "    <tr>\n",
       "      <td>2015-01-06</td>\n",
       "      <td>106.54</td>\n",
       "      <td>107.43</td>\n",
       "      <td>104.63</td>\n",
       "      <td>106.26</td>\n",
       "      <td>97.93</td>\n",
       "      <td>65797100</td>\n",
       "    </tr>\n",
       "    <tr>\n",
       "      <td>2015-01-07</td>\n",
       "      <td>107.20</td>\n",
       "      <td>108.20</td>\n",
       "      <td>106.70</td>\n",
       "      <td>107.75</td>\n",
       "      <td>99.30</td>\n",
       "      <td>40105900</td>\n",
       "    </tr>\n",
       "    <tr>\n",
       "      <td>2015-01-08</td>\n",
       "      <td>109.23</td>\n",
       "      <td>112.15</td>\n",
       "      <td>108.70</td>\n",
       "      <td>111.89</td>\n",
       "      <td>103.12</td>\n",
       "      <td>59364500</td>\n",
       "    </tr>\n",
       "    <tr>\n",
       "      <td>...</td>\n",
       "      <td>...</td>\n",
       "      <td>...</td>\n",
       "      <td>...</td>\n",
       "      <td>...</td>\n",
       "      <td>...</td>\n",
       "      <td>...</td>\n",
       "    </tr>\n",
       "    <tr>\n",
       "      <td>2018-12-24</td>\n",
       "      <td>148.15</td>\n",
       "      <td>151.55</td>\n",
       "      <td>146.59</td>\n",
       "      <td>146.83</td>\n",
       "      <td>145.09</td>\n",
       "      <td>37169200</td>\n",
       "    </tr>\n",
       "    <tr>\n",
       "      <td>2018-12-26</td>\n",
       "      <td>148.30</td>\n",
       "      <td>157.23</td>\n",
       "      <td>146.72</td>\n",
       "      <td>157.17</td>\n",
       "      <td>155.31</td>\n",
       "      <td>58582500</td>\n",
       "    </tr>\n",
       "    <tr>\n",
       "      <td>2018-12-27</td>\n",
       "      <td>155.84</td>\n",
       "      <td>156.77</td>\n",
       "      <td>150.07</td>\n",
       "      <td>156.15</td>\n",
       "      <td>154.30</td>\n",
       "      <td>53117100</td>\n",
       "    </tr>\n",
       "    <tr>\n",
       "      <td>2018-12-28</td>\n",
       "      <td>157.50</td>\n",
       "      <td>158.52</td>\n",
       "      <td>154.55</td>\n",
       "      <td>156.23</td>\n",
       "      <td>154.38</td>\n",
       "      <td>42291400</td>\n",
       "    </tr>\n",
       "    <tr>\n",
       "      <td>2018-12-31</td>\n",
       "      <td>158.53</td>\n",
       "      <td>159.36</td>\n",
       "      <td>156.48</td>\n",
       "      <td>157.74</td>\n",
       "      <td>155.87</td>\n",
       "      <td>35003500</td>\n",
       "    </tr>\n",
       "  </tbody>\n",
       "</table>\n",
       "<p>1006 rows × 6 columns</p>\n",
       "</div>"
      ],
      "text/plain": [
       "              Open    High     Low   Close  Adj Close    Volume\n",
       "Date                                                           \n",
       "2015-01-02  111.39  111.44  107.35  109.33     100.76  53204600\n",
       "2015-01-05  108.29  108.65  105.41  106.25      97.92  64285500\n",
       "2015-01-06  106.54  107.43  104.63  106.26      97.93  65797100\n",
       "2015-01-07  107.20  108.20  106.70  107.75      99.30  40105900\n",
       "2015-01-08  109.23  112.15  108.70  111.89     103.12  59364500\n",
       "...            ...     ...     ...     ...        ...       ...\n",
       "2018-12-24  148.15  151.55  146.59  146.83     145.09  37169200\n",
       "2018-12-26  148.30  157.23  146.72  157.17     155.31  58582500\n",
       "2018-12-27  155.84  156.77  150.07  156.15     154.30  53117100\n",
       "2018-12-28  157.50  158.52  154.55  156.23     154.38  42291400\n",
       "2018-12-31  158.53  159.36  156.48  157.74     155.87  35003500\n",
       "\n",
       "[1006 rows x 6 columns]"
      ]
     },
     "execution_count": 8,
     "metadata": {},
     "output_type": "execute_result"
    }
   ],
   "source": [
    "data"
   ]
  },
  {
   "cell_type": "code",
   "execution_count": 9,
   "metadata": {},
   "outputs": [
    {
     "data": {
      "image/png": "[encoded data removed]",
      "text/plain": [
       "<Figure size 432x288 with 1 Axes>"
      ]
     },
     "metadata": {
      "needs_background": "light"
     },
     "output_type": "display_data"
    }
   ],
   "source": [
    "data.Close.plot()\n",
    "plt.grid()\n",
    "plt.show()"
   ]
  }
 ],
 "metadata": {
  "kernelspec": {
   "display_name": "localizanoshow",
   "language": "python",
   "name": "localizanoshow"
  },
  "language_info": {
   "codemirror_mode": {
    "name": "ipython",
    "version": 3
   },
   "file_extension": ".py",
   "mimetype": "text/x-python",
   "name": "python",
   "nbconvert_exporter": "python",
   "pygments_lexer": "ipython3",
   "version": "3.7.4"
  }
 },
 "nbformat": 4,
 "nbformat_minor": 4
}

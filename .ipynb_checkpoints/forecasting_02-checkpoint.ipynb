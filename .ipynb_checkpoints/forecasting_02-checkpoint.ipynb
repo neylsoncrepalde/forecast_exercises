{
 "cells": [
  {
   "cell_type": "markdown",
   "metadata": {},
   "source": [
    "# Forecasting - Exercícios\n",
    "## Semana 2\n",
    "### Prof. Dr. Neylson Crepalde\n",
    "\n",
    "Aqui estão algumas anotações e exercícios de forecasting baseados no curso *Sequences, Time Series and Prediction* do Coursera."
   ]
  },
  {
   "cell_type": "markdown",
   "metadata": {},
   "source": [
    "### **SUMÁRIO**\n",
    ">1. [1 - Preparando features e labels](#features)\n",
    ">2. [2 - Single Layer Neural Network](#singlenet)"
   ]
  },
  {
   "cell_type": "markdown",
   "metadata": {},
   "source": [
    "<font size=\"6\"><a id=\"features\">1 - Preparando features e labels</a></font>\n",
    "***"
   ]
  },
  {
   "cell_type": "code",
   "execution_count": 1,
   "metadata": {},
   "outputs": [
    {
     "name": "stdout",
     "output_type": "stream",
     "text": [
      "2.0.0-dev20191002\n"
     ]
    }
   ],
   "source": [
    "import tensorflow as tf\n",
    "import numpy as np\n",
    "import matplotlib.pyplot as plt\n",
    "print(tf.__version__)"
   ]
  },
  {
   "cell_type": "code",
   "execution_count": 2,
   "metadata": {},
   "outputs": [
    {
     "name": "stdout",
     "output_type": "stream",
     "text": [
      "0\n",
      "1\n",
      "2\n",
      "3\n",
      "4\n",
      "5\n",
      "6\n",
      "7\n",
      "8\n",
      "9\n"
     ]
    }
   ],
   "source": [
    "dataset = tf.data.Dataset.range(10)\n",
    "for valor in dataset:\n",
    "    print(valor.numpy())"
   ]
  },
  {
   "cell_type": "code",
   "execution_count": 4,
   "metadata": {},
   "outputs": [
    {
     "name": "stdout",
     "output_type": "stream",
     "text": [
      "0 1 2 3 4 \n",
      "1 2 3 4 5 \n",
      "2 3 4 5 6 \n",
      "3 4 5 6 7 \n",
      "4 5 6 7 8 \n",
      "5 6 7 8 9 \n",
      "6 7 8 9 \n",
      "7 8 9 \n",
      "8 9 \n",
      "9 \n"
     ]
    }
   ],
   "source": [
    "dataset = tf.data.Dataset.range(10)\n",
    "dataset = dataset.window(5, shift=1) # Cria janela de 5 valores e muda a cada 1\n",
    "for window_dataset in dataset:\n",
    "    for val in window_dataset:\n",
    "        print(val.numpy(), end=\" \")\n",
    "    print()"
   ]
  },
  {
   "cell_type": "code",
   "execution_count": 5,
   "metadata": {},
   "outputs": [
    {
     "name": "stdout",
     "output_type": "stream",
     "text": [
      "0 1 2 3 4 \n",
      "1 2 3 4 5 \n",
      "2 3 4 5 6 \n",
      "3 4 5 6 7 \n",
      "4 5 6 7 8 \n",
      "5 6 7 8 9 \n"
     ]
    }
   ],
   "source": [
    "dataset = tf.data.Dataset.range(10)\n",
    "dataset = dataset.window(5, shift=1, drop_remainder=True) #seta drop_remainder=True para janelas fixas\n",
    "for window_dataset in dataset:\n",
    "    for val in window_dataset:\n",
    "        print(val.numpy(), end=\" \")\n",
    "    print()"
   ]
  },
  {
   "cell_type": "code",
   "execution_count": 8,
   "metadata": {},
   "outputs": [
    {
     "name": "stdout",
     "output_type": "stream",
     "text": [
      "[0 1 2 3 4]\n",
      "[1 2 3 4 5]\n",
      "[2 3 4 5 6]\n",
      "[3 4 5 6 7]\n",
      "[4 5 6 7 8]\n",
      "[5 6 7 8 9]\n"
     ]
    }
   ],
   "source": [
    "dataset = tf.data.Dataset.range(10)\n",
    "dataset = dataset.window(5, shift=1, drop_remainder=True)\n",
    "dataset = dataset.flat_map(lambda window: window.batch(5))\n",
    "for window in dataset:\n",
    "    print(window.numpy())"
   ]
  },
  {
   "cell_type": "code",
   "execution_count": 9,
   "metadata": {},
   "outputs": [
    {
     "name": "stdout",
     "output_type": "stream",
     "text": [
      "[0 1 2 3] [4]\n",
      "[1 2 3 4] [5]\n",
      "[2 3 4 5] [6]\n",
      "[3 4 5 6] [7]\n",
      "[4 5 6 7] [8]\n",
      "[5 6 7 8] [9]\n"
     ]
    }
   ],
   "source": [
    "dataset = tf.data.Dataset.range(10)\n",
    "dataset = dataset.window(5, shift=1, drop_remainder=True)\n",
    "dataset = dataset.flat_map(lambda window: window.batch(5))\n",
    "# Separa em chunks que vão até o penúltimo e separa apenas o último\n",
    "dataset = dataset.map(lambda window: (window[:-1], window[-1:]))\n",
    "for x,y in dataset:\n",
    "    print(x.numpy(), y.numpy())"
   ]
  },
  {
   "cell_type": "code",
   "execution_count": 10,
   "metadata": {},
   "outputs": [
    {
     "name": "stdout",
     "output_type": "stream",
     "text": [
      "[4 5 6 7] [8]\n",
      "[3 4 5 6] [7]\n",
      "[2 3 4 5] [6]\n",
      "[0 1 2 3] [4]\n",
      "[1 2 3 4] [5]\n",
      "[5 6 7 8] [9]\n"
     ]
    }
   ],
   "source": [
    "# Shuffling\n",
    "dataset = tf.data.Dataset.range(10)\n",
    "dataset = dataset.window(5, shift=1, drop_remainder=True)\n",
    "dataset = dataset.flat_map(lambda window: window.batch(5))\n",
    "dataset = dataset.map(lambda window: (window[:-1], window[-1:]))\n",
    "dataset = dataset.shuffle(buffer_size=10)\n",
    "for x,y in dataset:\n",
    "    print(x.numpy(), y.numpy())"
   ]
  },
  {
   "cell_type": "code",
   "execution_count": 11,
   "metadata": {},
   "outputs": [
    {
     "name": "stdout",
     "output_type": "stream",
     "text": [
      "x =  [[3 4 5 6]\n",
      " [4 5 6 7]]\n",
      "y =  [[7]\n",
      " [8]]\n",
      "x =  [[1 2 3 4]\n",
      " [2 3 4 5]]\n",
      "y =  [[5]\n",
      " [6]]\n",
      "x =  [[0 1 2 3]\n",
      " [5 6 7 8]]\n",
      "y =  [[4]\n",
      " [9]]\n"
     ]
    }
   ],
   "source": [
    "# Batching de novo para paralelização\n",
    "dataset = tf.data.Dataset.range(10)\n",
    "dataset = dataset.window(5, shift=1, drop_remainder=True)\n",
    "dataset = dataset.flat_map(lambda window: window.batch(5))\n",
    "dataset = dataset.map(lambda window: (window[:-1], window[-1:]))\n",
    "dataset = dataset.shuffle(buffer_size=10)\n",
    "dataset = dataset.batch(2).prefetch(1)\n",
    "for x,y in dataset:\n",
    "    print(\"x = \", x.numpy())\n",
    "    print(\"y = \", y.numpy())"
   ]
  },
  {
   "cell_type": "markdown",
   "metadata": {},
   "source": [
    "<font size=\"6\"><a id=\"singlenet\">2 - Single Layer Neural Network</a></font>\n",
    "***"
   ]
  },
  {
   "cell_type": "code",
   "execution_count": 12,
   "metadata": {},
   "outputs": [],
   "source": [
    "# Helper functions para geração de uma NN\n",
    "def plot_series(time, series, format=\"-\", start=0, end=None):\n",
    "    plt.plot(time[start:end], series[start:end], format)\n",
    "    plt.xlabel(\"Time\")\n",
    "    plt.ylabel(\"Value\")\n",
    "    plt.grid(True)\n",
    "\n",
    "def trend(time, slope=0):\n",
    "    return slope * time\n",
    "\n",
    "def seasonal_pattern(season_time):\n",
    "    \"\"\"Just an arbitrary pattern, you can change it if you wish\"\"\"\n",
    "    return np.where(season_time < 0.4,\n",
    "                    np.cos(season_time * 2 * np.pi),\n",
    "                    1 / np.exp(3 * season_time))\n",
    "\n",
    "def seasonality(time, period, amplitude=1, phase=0):\n",
    "    \"\"\"Repeats the same pattern at each period\"\"\"\n",
    "    season_time = ((time + phase) % period) / period\n",
    "    return amplitude * seasonal_pattern(season_time)\n",
    "\n",
    "def noise(time, noise_level=1, seed=None):\n",
    "    rnd = np.random.RandomState(seed)\n",
    "    return rnd.randn(len(time)) * noise_level\n",
    "\n",
    "time = np.arange(4 * 365 + 1, dtype=\"float32\")\n",
    "baseline = 10\n",
    "series = trend(time, 0.1)  \n",
    "baseline = 10\n",
    "amplitude = 40\n",
    "slope = 0.05\n",
    "noise_level = 5\n",
    "\n",
    "# Create the series\n",
    "series = baseline + trend(time, slope) + seasonality(time, period=365, amplitude=amplitude)\n",
    "# Update with noise\n",
    "series += noise(time, noise_level, seed=42)\n",
    "\n",
    "# Divide em treino e teste\n",
    "split_time = 1000\n",
    "time_train = time[:split_time]\n",
    "x_train = series[:split_time]\n",
    "time_valid = time[split_time:]\n",
    "x_valid = series[split_time:]"
   ]
  },
  {
   "cell_type": "code",
   "execution_count": 13,
   "metadata": {},
   "outputs": [],
   "source": [
    "# o tamanho da janela, o tamanho do batch e o tamanho do buffer de shuffle\n",
    "window_size = 20\n",
    "batch_size = 32\n",
    "shuffle_buffer_size = 1000"
   ]
  },
  {
   "cell_type": "code",
   "execution_count": 14,
   "metadata": {},
   "outputs": [],
   "source": [
    "# Helper function para criar as janelas\n",
    "def windowed_dataset(series, window_size, batch_size, shuffle_buffer):\n",
    "    dataset = tf.data.Dataset.from_tensor_slices(series)\n",
    "    dataset = dataset.window(window_size + 1, shift=1, drop_remainder=True)\n",
    "    dataset = dataset.flat_map(lambda window: window.batch(window_size + 1))\n",
    "    dataset = dataset.shuffle(shuffle_buffer).map(lambda window: (window[:-1], window[-1]))\n",
    "    dataset = dataset.batch(batch_size).prefetch(1)\n",
    "    return dataset"
   ]
  },
  {
   "cell_type": "code",
   "execution_count": 15,
   "metadata": {},
   "outputs": [
    {
     "name": "stdout",
     "output_type": "stream",
     "text": [
      "<PrefetchDataset shapes: ((None, None), (None,)), types: (tf.float32, tf.float32)>\n",
      "Epoch 1/100\n",
      "31/31 [==============================] - 1s 19ms/step - loss: 917.7999\n",
      "Epoch 2/100\n",
      "31/31 [==============================] - 0s 5ms/step - loss: 171.6051\n",
      "Epoch 3/100\n",
      "31/31 [==============================] - 0s 4ms/step - loss: 142.2890\n",
      "Epoch 4/100\n",
      "31/31 [==============================] - 0s 4ms/step - loss: 130.1011\n",
      "Epoch 5/100\n",
      "31/31 [==============================] - 0s 4ms/step - loss: 121.8209\n",
      "Epoch 6/100\n",
      "31/31 [==============================] - 0s 4ms/step - loss: 116.5758\n",
      "Epoch 7/100\n",
      "31/31 [==============================] - 0s 4ms/step - loss: 111.6008\n",
      "Epoch 8/100\n",
      "31/31 [==============================] - 0s 4ms/step - loss: 106.2270\n",
      "Epoch 9/100\n",
      "31/31 [==============================] - 0s 4ms/step - loss: 103.6927\n",
      "Epoch 10/100\n",
      "31/31 [==============================] - 0s 4ms/step - loss: 100.9573\n",
      "Epoch 11/100\n",
      "31/31 [==============================] - 0s 4ms/step - loss: 96.3538\n",
      "Epoch 12/100\n",
      "31/31 [==============================] - 0s 4ms/step - loss: 93.7240\n",
      "Epoch 13/100\n",
      "31/31 [==============================] - 0s 4ms/step - loss: 92.1501\n",
      "Epoch 14/100\n",
      "31/31 [==============================] - 0s 4ms/step - loss: 90.1182\n",
      "Epoch 15/100\n",
      "31/31 [==============================] - 0s 4ms/step - loss: 86.6134\n",
      "Epoch 16/100\n",
      "31/31 [==============================] - 0s 4ms/step - loss: 86.1075\n",
      "Epoch 17/100\n",
      "31/31 [==============================] - 0s 4ms/step - loss: 82.5981\n",
      "Epoch 18/100\n",
      "31/31 [==============================] - 0s 4ms/step - loss: 80.8571\n",
      "Epoch 19/100\n",
      "31/31 [==============================] - 0s 4ms/step - loss: 79.2686\n",
      "Epoch 20/100\n",
      "31/31 [==============================] - 0s 4ms/step - loss: 76.9625\n",
      "Epoch 21/100\n",
      "31/31 [==============================] - 0s 4ms/step - loss: 75.4479\n",
      "Epoch 22/100\n",
      "31/31 [==============================] - 0s 4ms/step - loss: 73.4983\n",
      "Epoch 23/100\n",
      "31/31 [==============================] - 0s 4ms/step - loss: 73.5858\n",
      "Epoch 24/100\n",
      "31/31 [==============================] - 0s 4ms/step - loss: 71.3648\n",
      "Epoch 25/100\n",
      "31/31 [==============================] - 0s 4ms/step - loss: 69.8156\n",
      "Epoch 26/100\n",
      "31/31 [==============================] - 0s 4ms/step - loss: 70.8852\n",
      "Epoch 27/100\n",
      "31/31 [==============================] - 0s 4ms/step - loss: 69.9952\n",
      "Epoch 28/100\n",
      "31/31 [==============================] - 0s 4ms/step - loss: 70.1705\n",
      "Epoch 29/100\n",
      "31/31 [==============================] - 0s 4ms/step - loss: 65.6962\n",
      "Epoch 30/100\n",
      "31/31 [==============================] - 0s 4ms/step - loss: 64.2813\n",
      "Epoch 31/100\n",
      "31/31 [==============================] - 0s 4ms/step - loss: 63.2227\n",
      "Epoch 32/100\n",
      "31/31 [==============================] - 0s 4ms/step - loss: 62.7539\n",
      "Epoch 33/100\n",
      "31/31 [==============================] - 0s 4ms/step - loss: 61.4879\n",
      "Epoch 34/100\n",
      "31/31 [==============================] - 0s 4ms/step - loss: 60.7846\n",
      "Epoch 35/100\n",
      "31/31 [==============================] - 0s 4ms/step - loss: 60.7062\n",
      "Epoch 36/100\n",
      "31/31 [==============================] - 0s 4ms/step - loss: 59.4887\n",
      "Epoch 37/100\n",
      "31/31 [==============================] - 0s 4ms/step - loss: 58.3699\n",
      "Epoch 38/100\n",
      "31/31 [==============================] - 0s 4ms/step - loss: 58.3563\n",
      "Epoch 39/100\n",
      "31/31 [==============================] - 0s 4ms/step - loss: 57.4994\n",
      "Epoch 40/100\n",
      "31/31 [==============================] - 0s 4ms/step - loss: 57.8836\n",
      "Epoch 41/100\n",
      "31/31 [==============================] - 0s 4ms/step - loss: 56.5086\n",
      "Epoch 42/100\n",
      "31/31 [==============================] - 0s 4ms/step - loss: 56.6549\n",
      "Epoch 43/100\n",
      "31/31 [==============================] - 0s 4ms/step - loss: 55.1906\n",
      "Epoch 44/100\n",
      "31/31 [==============================] - 0s 4ms/step - loss: 54.4896\n",
      "Epoch 45/100\n",
      "31/31 [==============================] - 0s 4ms/step - loss: 54.2424\n",
      "Epoch 46/100\n",
      "31/31 [==============================] - 0s 4ms/step - loss: 54.0033\n",
      "Epoch 47/100\n",
      "31/31 [==============================] - 0s 4ms/step - loss: 53.1106\n",
      "Epoch 48/100\n",
      "31/31 [==============================] - 0s 4ms/step - loss: 52.6946\n",
      "Epoch 49/100\n",
      "31/31 [==============================] - 0s 4ms/step - loss: 51.8279\n",
      "Epoch 50/100\n",
      "31/31 [==============================] - 0s 4ms/step - loss: 52.2787\n",
      "Epoch 51/100\n",
      "31/31 [==============================] - 0s 4ms/step - loss: 51.6633\n",
      "Epoch 52/100\n",
      "31/31 [==============================] - 0s 4ms/step - loss: 51.4372\n",
      "Epoch 53/100\n",
      "31/31 [==============================] - 0s 4ms/step - loss: 50.5982\n",
      "Epoch 54/100\n",
      "31/31 [==============================] - 0s 4ms/step - loss: 50.2920\n",
      "Epoch 55/100\n",
      "31/31 [==============================] - 0s 4ms/step - loss: 50.4256\n",
      "Epoch 56/100\n",
      "31/31 [==============================] - 0s 4ms/step - loss: 50.4564\n",
      "Epoch 57/100\n",
      "31/31 [==============================] - 0s 4ms/step - loss: 49.4316\n",
      "Epoch 58/100\n",
      "31/31 [==============================] - 0s 4ms/step - loss: 49.5388\n",
      "Epoch 59/100\n",
      "31/31 [==============================] - 0s 4ms/step - loss: 49.2940\n",
      "Epoch 60/100\n",
      "31/31 [==============================] - 0s 4ms/step - loss: 49.1808\n",
      "Epoch 61/100\n",
      "31/31 [==============================] - 0s 4ms/step - loss: 48.7229\n",
      "Epoch 62/100\n",
      "31/31 [==============================] - 0s 4ms/step - loss: 48.2022\n",
      "Epoch 63/100\n",
      "31/31 [==============================] - 0s 4ms/step - loss: 48.1011\n",
      "Epoch 64/100\n",
      "31/31 [==============================] - 0s 4ms/step - loss: 47.8606\n",
      "Epoch 65/100\n",
      "31/31 [==============================] - 0s 4ms/step - loss: 47.5783\n",
      "Epoch 66/100\n",
      "31/31 [==============================] - 0s 4ms/step - loss: 47.6623\n",
      "Epoch 67/100\n",
      "31/31 [==============================] - 0s 4ms/step - loss: 47.2484\n",
      "Epoch 68/100\n",
      "31/31 [==============================] - 0s 4ms/step - loss: 47.1166\n",
      "Epoch 69/100\n",
      "31/31 [==============================] - 0s 4ms/step - loss: 49.3043\n",
      "Epoch 70/100\n",
      "31/31 [==============================] - 0s 4ms/step - loss: 48.0332\n",
      "Epoch 71/100\n",
      "31/31 [==============================] - 0s 4ms/step - loss: 48.4418\n",
      "Epoch 72/100\n",
      "31/31 [==============================] - 0s 4ms/step - loss: 46.5473\n",
      "Epoch 73/100\n",
      "31/31 [==============================] - 0s 4ms/step - loss: 46.7580\n",
      "Epoch 74/100\n",
      "31/31 [==============================] - 0s 4ms/step - loss: 46.4658\n",
      "Epoch 75/100\n",
      "31/31 [==============================] - 0s 4ms/step - loss: 46.4933\n",
      "Epoch 76/100\n",
      "31/31 [==============================] - 0s 4ms/step - loss: 45.6312\n",
      "Epoch 77/100\n",
      "31/31 [==============================] - 0s 4ms/step - loss: 46.5426\n",
      "Epoch 78/100\n",
      "31/31 [==============================] - 0s 4ms/step - loss: 45.5577\n",
      "Epoch 79/100\n",
      "31/31 [==============================] - 0s 4ms/step - loss: 46.5751\n",
      "Epoch 80/100\n",
      "31/31 [==============================] - 0s 4ms/step - loss: 46.8372\n",
      "Epoch 81/100\n",
      "31/31 [==============================] - 0s 4ms/step - loss: 45.5570\n",
      "Epoch 82/100\n",
      "31/31 [==============================] - 0s 4ms/step - loss: 45.8581\n",
      "Epoch 83/100\n",
      "31/31 [==============================] - 0s 4ms/step - loss: 45.7225\n",
      "Epoch 84/100\n",
      "31/31 [==============================] - 0s 4ms/step - loss: 45.9400\n",
      "Epoch 85/100\n",
      "31/31 [==============================] - 0s 4ms/step - loss: 45.5556\n",
      "Epoch 86/100\n",
      "31/31 [==============================] - 0s 4ms/step - loss: 44.7202\n",
      "Epoch 87/100\n",
      "31/31 [==============================] - 0s 4ms/step - loss: 44.6930\n",
      "Epoch 88/100\n",
      "31/31 [==============================] - 0s 4ms/step - loss: 45.0105\n",
      "Epoch 89/100\n",
      "31/31 [==============================] - 0s 4ms/step - loss: 44.9408\n",
      "Epoch 90/100\n",
      "31/31 [==============================] - 0s 4ms/step - loss: 44.6710\n",
      "Epoch 91/100\n",
      "31/31 [==============================] - 0s 4ms/step - loss: 46.4582\n",
      "Epoch 92/100\n",
      "31/31 [==============================] - 0s 4ms/step - loss: 44.8415\n",
      "Epoch 93/100\n",
      "31/31 [==============================] - 0s 4ms/step - loss: 45.9479\n",
      "Epoch 94/100\n",
      "31/31 [==============================] - 0s 4ms/step - loss: 44.7351\n",
      "Epoch 95/100\n",
      "31/31 [==============================] - 0s 4ms/step - loss: 44.6463\n",
      "Epoch 96/100\n",
      "31/31 [==============================] - 0s 4ms/step - loss: 44.7597\n",
      "Epoch 97/100\n",
      "31/31 [==============================] - 0s 4ms/step - loss: 43.9183\n",
      "Epoch 98/100\n",
      "31/31 [==============================] - 0s 4ms/step - loss: 45.0579\n",
      "Epoch 99/100\n",
      "31/31 [==============================] - 0s 4ms/step - loss: 44.1436\n",
      "Epoch 100/100\n",
      "31/31 [==============================] - 0s 4ms/step - loss: 44.0056\n",
      "Layer weights [array([[ 0.01336671],\n",
      "       [ 0.00507357],\n",
      "       [-0.03078111],\n",
      "       [-0.08609878],\n",
      "       [ 0.08071791],\n",
      "       [ 0.02228988],\n",
      "       [ 0.06515267],\n",
      "       [-0.03360085],\n",
      "       [-0.05866234],\n",
      "       [ 0.00892739],\n",
      "       [ 0.01296659],\n",
      "       [-0.01895483],\n",
      "       [-0.06027168],\n",
      "       [ 0.09396402],\n",
      "       [ 0.0170794 ],\n",
      "       [ 0.12770255],\n",
      "       [-0.05096795],\n",
      "       [ 0.17515817],\n",
      "       [ 0.20084913],\n",
      "       [ 0.51209736]], dtype=float32), array([0.01338385], dtype=float32)]\n"
     ]
    }
   ],
   "source": [
    "# Cria o dataset dividido em janelas\n",
    "dataset = windowed_dataset(x_train, window_size, batch_size, shuffle_buffer_size)\n",
    "print(dataset)\n",
    "\n",
    "# Cria a primeira camada e o modelo\n",
    "l0 = tf.keras.layers.Dense(1, input_shape=[window_size])\n",
    "model = tf.keras.models.Sequential([l0])\n",
    "\n",
    "# Compila o modelo com MSE como medida de loss e utilizando Sthocastic Gradient Descent optimizer\n",
    "model.compile(loss=\"mse\", optimizer=tf.keras.optimizers.SGD(lr=1e-6, momentum=0.9))\n",
    "# Treina com 100 epochs. Vamos setar verbose=1 para ver os outputs\n",
    "model.fit(dataset,epochs=100,verbose=1)\n",
    "\n",
    "# Ve os pesos criados\n",
    "print(\"Layer weights {}\".format(l0.get_weights()))"
   ]
  },
  {
   "cell_type": "code",
   "execution_count": 16,
   "metadata": {},
   "outputs": [
    {
     "data": {
      "image/png": "[encoded data removed]",
      "text/plain": [
       "<Figure size 720x432 with 1 Axes>"
      ]
     },
     "metadata": {
      "needs_background": "light"
     },
     "output_type": "display_data"
    }
   ],
   "source": [
    "# Faz as predições - Estudar esse código!!!\n",
    "forecast = []\n",
    "\n",
    "for time in range(len(series) - window_size):\n",
    "    forecast.append(model.predict(series[time:time + window_size][np.newaxis]))\n",
    "\n",
    "forecast = forecast[split_time-window_size:]\n",
    "results = np.array(forecast)[:, 0, 0]\n",
    "\n",
    "\n",
    "plt.figure(figsize=(10, 6))\n",
    "\n",
    "plot_series(time_valid, x_valid)\n",
    "plot_series(time_valid, results)"
   ]
  },
  {
   "cell_type": "code",
   "execution_count": 17,
   "metadata": {},
   "outputs": [
    {
     "data": {
      "text/plain": [
       "5.0926075"
      ]
     },
     "execution_count": 17,
     "metadata": {},
     "output_type": "execute_result"
    }
   ],
   "source": [
    "tf.keras.metrics.mean_absolute_error(x_valid, results).numpy()"
   ]
  }
 ],
 "metadata": {
  "kernelspec": {
   "display_name": "localizanoshow",
   "language": "python",
   "name": "localizanoshow"
  },
  "language_info": {
   "codemirror_mode": {
    "name": "ipython",
    "version": 3
   },
   "file_extension": ".py",
   "mimetype": "text/x-python",
   "name": "python",
   "nbconvert_exporter": "python",
   "pygments_lexer": "ipython3",
   "version": "3.7.4"
  }
 },
 "nbformat": 4,
 "nbformat_minor": 4
}

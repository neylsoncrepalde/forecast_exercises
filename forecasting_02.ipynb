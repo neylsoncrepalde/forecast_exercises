{
 "cells": [
  {
   "cell_type": "markdown",
   "metadata": {},
   "source": [
    "# Forecasting - Exercícios\n",
    "## Semana 2\n",
    "### Prof. Dr. Neylson Crepalde\n",
    "\n",
    "Aqui estão algumas anotações e exercícios de forecasting baseados no curso *Sequences, Time Series and Prediction* do Coursera."
   ]
  },
  {
   "cell_type": "markdown",
   "metadata": {},
   "source": [
    "### **SUMÁRIO**\n",
    ">1. [1 - Preparando features e labels](#features)"
   ]
  },
  {
   "cell_type": "markdown",
   "metadata": {},
   "source": [
    "<font size=\"6\"><a id=\"features\">1 - Preparando features e labels</a></font>\n",
    "***"
   ]
  },
  {
   "cell_type": "code",
   "execution_count": null,
   "metadata": {},
   "outputs": [],
   "source": []
  }
 ],
 "metadata": {
  "kernelspec": {
   "display_name": "localizanoshow",
   "language": "python",
   "name": "localizanoshow"
  },
  "language_info": {
   "codemirror_mode": {
    "name": "ipython",
    "version": 3
   },
   "file_extension": ".py",
   "mimetype": "text/x-python",
   "name": "python",
   "nbconvert_exporter": "python",
   "pygments_lexer": "ipython3",
   "version": "3.7.4"
  }
 },
 "nbformat": 4,
 "nbformat_minor": 4
}
